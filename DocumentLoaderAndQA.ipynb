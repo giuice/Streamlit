{
 "cells": [
  {
   "attachments": {},
   "cell_type": "markdown",
   "metadata": {},
   "source": [
    "# Reinternação\n",
    "**Esse documento visa sumarizar e extrair os pontos mais importantes de toda a documentação de Reinternação.**\n"
   ]
  },
  {
   "cell_type": "code",
   "execution_count": 1,
   "metadata": {},
   "outputs": [
    {
     "name": "stderr",
     "output_type": "stream",
     "text": [
      "f:\\Desen\\Python311\\Lib\\site-packages\\numpy\\_distributor_init.py:30: UserWarning: loaded more than 1 DLL from .libs:\n",
      "f:\\Desen\\Python311\\Lib\\site-packages\\numpy\\.libs\\libopenblas.FB5AE2TYXYH2IJRDKGDGQ3XBKLKTF43H.gfortran-win_amd64.dll\n",
      "f:\\Desen\\Python311\\Lib\\site-packages\\numpy\\.libs\\libopenblas64__v0.3.21-gcc_10_3_0.dll\n",
      "  warnings.warn(\"loaded more than 1 DLL from .libs:\"\n"
     ]
    }
   ],
   "source": [
    "from pprint import pprint as print\n",
    "from langchain.document_loaders import DirectoryLoader\n",
    "from langchain.embeddings import HuggingFaceEmbeddings\n",
    "from langchain.vectorstores import FAISS\n",
    "from langchain.text_splitter import SpacyTextSplitter\n",
    "from IPython.display import HTML, display\n",
    "from ipywidgets import widgets, Layout\n",
    "\n",
    "#setup inicial\n",
    "embeddings = HuggingFaceEmbeddings()\n",
    "from dotenv import load_dotenv, find_dotenv\n",
    "_ = load_dotenv(find_dotenv())\n"
   ]
  },
  {
   "attachments": {},
   "cell_type": "markdown",
   "metadata": {},
   "source": [
    "## Passo 1. Carregar os documentos ( mude o diretório de acordo com o que quer.)\n",
    "<i>Se já criou o database de vetores vá direto ao passo 3!</i>"
   ]
  },
  {
   "cell_type": "code",
   "execution_count": 6,
   "metadata": {},
   "outputs": [],
   "source": [
    "loader = DirectoryLoader('./docs/')\n",
    "docs = loader.load()"
   ]
  },
  {
   "cell_type": "code",
   "execution_count": 7,
   "metadata": {},
   "outputs": [
    {
     "data": {
      "text/plain": [
       "1"
      ]
     },
     "execution_count": 7,
     "metadata": {},
     "output_type": "execute_result"
    }
   ],
   "source": [
    "len(docs)"
   ]
  },
  {
   "attachments": {},
   "cell_type": "markdown",
   "metadata": {},
   "source": [
    "<i>Fixando erros de characteres nos documentos</i>"
   ]
  },
  {
   "cell_type": "code",
   "execution_count": 3,
   "metadata": {},
   "outputs": [],
   "source": [
    "for doc in docs:\n",
    "\tdoc.page_content = doc.page_content.encode('ISO-8859-1', errors='ignore') .decode('ISO-8859-1', errors='ignore')"
   ]
  },
  {
   "attachments": {},
   "cell_type": "markdown",
   "metadata": {},
   "source": [
    "<i>Achar quantos tokens contem todos os textos</i>"
   ]
  },
  {
   "cell_type": "code",
   "execution_count": 3,
   "metadata": {},
   "outputs": [
    {
     "name": "stdout",
     "output_type": "stream",
     "text": [
      "'Os documentos possuem 0 tokens'\n"
     ]
    }
   ],
   "source": [
    "import tiktoken\n",
    "\n",
    "encoding = tiktoken.get_encoding(\"cl100k_base\")\n",
    "\n",
    "tokens = sum(len(encoding.encode(doc.page_content)) for doc in docs)\n",
    "print(f'Os documentos possuem {tokens} tokens')"
   ]
  },
  {
   "cell_type": "code",
   "execution_count": 5,
   "metadata": {},
   "outputs": [
    {
     "name": "stdout",
     "output_type": "stream",
     "text": [
      "'Agora possuimos 88 documentos'\n"
     ]
    }
   ],
   "source": [
    "text_splitter = SpacyTextSplitter(chunk_size=1500, pipeline=\"pt_core_news_md\")\n",
    "splited_docs = text_splitter.split_documents(docs)\n",
    "print(f'Agora possuimos {len(splited_docs)} documentos')"
   ]
  },
  {
   "cell_type": "code",
   "execution_count": 8,
   "metadata": {},
   "outputs": [],
   "source": [
    "from langchain.text_splitter import RecursiveCharacterTextSplitter\n",
    "text_splitter = RecursiveCharacterTextSplitter.from_tiktoken_encoder(chunk_size=400, chunk_overlap=20)\n",
    "splited_docs = text_splitter.split_documents(docs)"
   ]
  },
  {
   "cell_type": "code",
   "execution_count": 6,
   "metadata": {},
   "outputs": [
    {
     "name": "stdout",
     "output_type": "stream",
     "text": [
      "'Min: 173'\n",
      "'Avg: 435.95454545454544'\n",
      "'Max: 548'\n"
     ]
    },
    {
     "data": {
      "image/png": "[encoded data removed]",
      "text/plain": [
       "<Figure size 1200x600 with 1 Axes>"
      ]
     },
     "metadata": {},
     "output_type": "display_data"
    }
   ],
   "source": [
    "token_counts = [len(encoding.encode(doc.page_content)) for doc in splited_docs]\n",
    "print(f\"Min: {min(token_counts)}\")\n",
    "print(f\"Avg: {sum(token_counts) / len(token_counts)}\")\n",
    "print(f\"Max: {max(token_counts)}\")\n",
    "import matplotlib.pyplot as plt\n",
    "import seaborn as sns\n",
    "\n",
    "# set style and color palette for the plot\n",
    "sns.set_style(\"whitegrid\")\n",
    "sns.set_palette(\"muted\")\n",
    "\n",
    "# create histogram\n",
    "plt.figure(figsize=(12, 6))\n",
    "sns.histplot(token_counts, kde=False, bins=50)\n",
    "\n",
    "# customize the plot info\n",
    "plt.title(\"Token Counts Histogram\")\n",
    "plt.xlabel(\"Token Count\")\n",
    "plt.ylabel(\"Frequency\")\n",
    "\n",
    "plt.show()\n"
   ]
  },
  {
   "attachments": {},
   "cell_type": "markdown",
   "metadata": {},
   "source": [
    "## Vetorizando os documentos"
   ]
  },
  {
   "cell_type": "code",
   "execution_count": 10,
   "metadata": {},
   "outputs": [],
   "source": [
    "db = FAISS.from_documents(splited_docs, embeddings)"
   ]
  },
  {
   "attachments": {},
   "cell_type": "markdown",
   "metadata": {},
   "source": [
    "## Salvando localmente para acesso rápido da próxima vez"
   ]
  },
  {
   "cell_type": "code",
   "execution_count": 11,
   "metadata": {},
   "outputs": [],
   "source": [
    "db.save_local(folder_path='./vectors/', index_name='longevity')"
   ]
  },
  {
   "attachments": {},
   "cell_type": "markdown",
   "metadata": {},
   "source": [
    "## Passo 3: Carregando o índice já salvo"
   ]
  },
  {
   "cell_type": "code",
   "execution_count": 2,
   "metadata": {},
   "outputs": [],
   "source": [
    "db = FAISS.load_local(folder_path='./vectors/', index_name='reinternacao', embeddings=embeddings)"
   ]
  },
  {
   "attachments": {},
   "cell_type": "markdown",
   "metadata": {},
   "source": [
    "### Agora podemos procurar na documentação qualquer termo, pergunta usando <code> db.similarity_search </code> command.\n",
    "**Podemos utilizar tb:**\n",
    "- <code> db.similarity_search_with_score</code>\n",
    "- <code>python similarity_search_with_relevance_scores</code>\n"
   ]
  },
  {
   "cell_type": "code",
   "execution_count": 12,
   "metadata": {},
   "outputs": [],
   "source": [
    "#db.similarity_search(\"O que é Pim3?\")\n",
    "answers = db.similarity_search_with_relevance_scores(\"Medicine 2.0\")"
   ]
  },
  {
   "cell_type": "code",
   "execution_count": 13,
   "metadata": {},
   "outputs": [
    {
     "data": {
      "text/plain": [
       "\"(31:21) Today it's 10 percent, effectively. So we've seen a log fold increase in type two diabetes. 100 to 120 million people in the United States are metabolically sick, meaning have metabolic syndrome or pre-diabetes, or type two diabetes outright. So something's not working. And the current system of Medicine 2.0 doesn't really seem equipped to address it.\\n\\n(31:47) It intervenes late, and by the time it's intervening, it's not really fixing. So this thing I'm proposing, this idea that of course I'm not the first person to suggest, maybe I'm the first person to talk about it this way, is we want to pivot to this newer way of thinking about things which deviates from Medicine 2.\\n\\n(32:07) 0 in a couple of really important areas. The first is in its timeline. So Medicine 2.0 is largely focused on treating disease. And it's really interesting when I think about it, because it's so obvious that I can't believe I didn't notice it earlier. But when you're in medicine, when you're in medical school, when you're in residency, when you're in practice, you sort of need a code for a disease.\\n\\n(32:33) You need a code for a disease that you bill for and you treat. And prevention doesn't really fit into that. So when I went to medical school, I didn't learn a single thing about nutrition or exercise or sleep or stress management or emotional health. I learned a lot about pharmacology. And it's tempting at this point to say, well, pharmacology is either good or bad.\""
      ]
     },
     "execution_count": 13,
     "metadata": {},
     "output_type": "execute_result"
    }
   ],
   "source": [
    "answers[0][0].page_content"
   ]
  },
  {
   "attachments": {},
   "cell_type": "markdown",
   "metadata": {},
   "source": [
    "## Achando respostas para seus problemas"
   ]
  },
  {
   "cell_type": "code",
   "execution_count": 14,
   "metadata": {},
   "outputs": [],
   "source": [
    "from  langchain.memory import ConversationSummaryBufferMemory\n",
    "from langchain.chains import ConversationalRetrievalChain\n",
    "from langchain.llms import OpenAI\n",
    "\n",
    "memory = ConversationSummaryBufferMemory(llm=OpenAI(), max_token_limit=1000, memory_key=\"chat_history\", return_messages=True)\n",
    "qa = ConversationalRetrievalChain.from_llm(OpenAI(temperature=0.6), db.as_retriever(), memory=memory)"
   ]
  },
  {
   "cell_type": "code",
   "execution_count": 15,
   "metadata": {},
   "outputs": [],
   "source": [
    "##%%html\n",
    "css = \"\"\"\n",
    "<link href=\"https://cdn.jsdelivr.net/npm/bootstrap@5.3.0-alpha3/dist/css/bootstrap.min.css\" rel=\"stylesheet\" integrity=\"sha384-KK94CHFLLe+nY2dmCWGMq91rCGa5gtU4mk92HdvYe+M/SXH301p5ILy+dN9+nJOZ\" crossorigin=\"anonymous\">\n",
    "<style>\n",
    "    html {data-bs-theme=\"dark\"}\n",
    "    body{margin-top:20px; \n",
    "         background-color: black;\n",
    "         color: aqua;} \n",
    "\n",
    "    .chat-message-left,\n",
    "    .chat-message-right {\n",
    "        display: flex;\n",
    "        color: aqua;\n",
    "        flex-shrink: 0;\n",
    "    }\n",
    "\n",
    "    .chat-message-left {\n",
    "        margin-right: auto\n",
    "    }\n",
    "\n",
    "    .chat-message-right {\n",
    "        flex-direction: row-reverse;\n",
    "        margin-left: auto\n",
    "    }\n",
    "\n",
    "    .cell-output-ipywidget-background {\n",
    "        background-color: transparent !important;\n",
    "    }\n",
    "    .jp-OutputArea-output {\n",
    "        background-color: transparent;\n",
    "    }  \n",
    "</style>\n",
    "\"\"\" \n"
   ]
  },
  {
   "cell_type": "code",
   "execution_count": 17,
   "metadata": {},
   "outputs": [
    {
     "data": {
      "application/vnd.jupyter.widget-view+json": {
       "model_id": "dc307de2a5d24611afc6d8ded84aae0e",
       "version_major": 2,
       "version_minor": 0
      },
      "text/plain": [
       "HTML(value='\\n<link href=\"https://cdn.jsdelivr.net/npm/bootstrap@5.3.0-alpha3/dist/css/bootstrap.min.css\" rel=…"
      ]
     },
     "metadata": {},
     "output_type": "display_data"
    },
    {
     "data": {
      "application/vnd.jupyter.widget-view+json": {
       "model_id": "7bc5d4706084449cbadb96041b7c3e1b",
       "version_major": 2,
       "version_minor": 0
      },
      "text/plain": [
       "HBox(children=(Output(outputs=({'output_type': 'display_data', 'data': {'text/plain': '<IPython.core.display.H…"
      ]
     },
     "metadata": {},
     "output_type": "display_data"
    },
    {
     "data": {
      "application/vnd.jupyter.widget-view+json": {
       "model_id": "9d9de17f88cb47ad86f22a1c8c84fa32",
       "version_major": 2,
       "version_minor": 0
      },
      "text/plain": [
       "HBox(children=(Image(value=b'GIF89a\\xc8\\x00\\xc8\\x00\\xf7\\x00\\x00;Ch\\x83\\x90\\xb7\\xcf\\xdc\\xe8\\xda\\xec\\xf1\\xf1\\xf2…"
      ]
     },
     "metadata": {},
     "output_type": "display_data"
    }
   ],
   "source": [
    "from datetime import datetime\n",
    "def text_eventhandler(*args):\n",
    "    # Needed bc when we \"reset\" the text input\n",
    "    # it fires instantly another event since\n",
    "    # we \"changed\" it's value to \"\"\n",
    "    if args[0][\"new\"] == \"\":\n",
    "        return\n",
    "\n",
    "    # Show loading animation\n",
    "    loading_bar.layout.display = \"block\"\n",
    "\n",
    "    # Get question\n",
    "    question = args[0][\"new\"]\n",
    "\n",
    "    # Reset text field\n",
    "    args[0][\"owner\"].value = \"\"\n",
    "\n",
    "    # Formatting question for output\n",
    "    q = (\n",
    "        f'<div class=\"chat-message-right pb-4\"><div><img src=\"images/bear.png\" class=\"rounded-circle mr-1\" width=\"40\" height=\"40\"><div class=\"text-muted small text-nowrap mt-2\">{datetime.now().strftime(\"%H:%M:%S\")}</div></div><div class=\"flex-shrink-1 bg-dark rounded py-2 px-3 ml-3\">'\n",
    "        + f'<div class=\"font-weight-bold mb-1\">Você</div>{question}</div>'\n",
    "    )\n",
    "\n",
    "    # Display formatted question\n",
    "    output.append_display_data(HTML(q))\n",
    "\n",
    "    try:\n",
    "        response = qa({\"question\": question})\n",
    "        answer = response[\"answer\"]\n",
    "        #chat_history.append((question, answer))\n",
    "    except Exception as e:\n",
    "        answer = f\"<b>Error:</b> {str(e)}\"\n",
    "\n",
    "    # Formatting answer for output\n",
    "    # Replacing all $ otherwise matjax would format them in a strange way\n",
    "    answer_formatted = answer.replace('$', r'\\$')\n",
    "    a = (\n",
    "        f'<div class=\"chat-message-left pb-4\"><div><img src=\"images/cat.png\" class=\"rounded-circle mr-1\" width=\"40\" height=\"40\"><div class=\"text-muted small text-nowrap mt-2\">{datetime.now().strftime(\"%H:%M:%S\")}</div></div><div class=\"flex-shrink-1 bg-dark rounded py-2 px-3 ml-3\">'\n",
    "        + f'<div class=\"font-weight-bold mb-1\">LLM</div>{answer_formatted}</div>'\n",
    "    )\n",
    "\n",
    "    # Turn off loading animation\n",
    "    loading_bar.layout.display = \"none\"\n",
    "    output.append_display_data(HTML(a))\n",
    "\n",
    "\n",
    "css_widget = widgets.HTML(value=css)\n",
    "display(css_widget)\n",
    "\n",
    "in_text = widgets.Text()\n",
    "in_text.continuous_update = False\n",
    "in_text.observe(text_eventhandler, \"value\")\n",
    "output = widgets.Output()\n",
    "output.append_display_data(HTML(\"<H5 style='color:aqua'>Giuice Chatbot</H5>\"))\n",
    "\n",
    "with open(\"images/loading.gif\", \"rb\") as file:\n",
    "    image = file.read()\n",
    "\n",
    "loading_bar = widgets.Image(\n",
    "    value=image, format=\"gif\", width=\"20\", height=\"20\", layout={\"display\": \"None\"}\n",
    ")\n",
    "\n",
    "container = widgets.HBox(\n",
    "    children=[loading_bar, in_text],\n",
    "    layout=Layout(display=\"flex\", flex_flow=\"row\")\n",
    ")\n",
    "\n",
    "output_container = widgets.HBox(\n",
    "    children=[output],\n",
    "    layout=Layout(\n",
    "        width=\"100%\",\n",
    "        max_height=\"500px\",\n",
    "        display=\"inline-flex\",\n",
    "        flex_flow=\"column-reverse\",\n",
    "    )\n",
    ")\n",
    "\n",
    "# # Apply the dark mode styles to the output_container and container\n",
    "# output_container.add_class(\"dark-mode\")\n",
    "# container.add_class(\"dark-mode\")\n",
    "\n",
    "\n",
    "# Display the containers\n",
    "display(output_container)\n",
    "display(container)\n",
    "\n"
   ]
  },
  {
   "attachments": {},
   "cell_type": "markdown",
   "metadata": {},
   "source": [
    "## Summarizando o documento par aum entendimento melhor"
   ]
  },
  {
   "cell_type": "code",
   "execution_count": 50,
   "metadata": {},
   "outputs": [],
   "source": [
    "text = \"\\n\".join(doc.page_content for doc in docs)"
   ]
  },
  {
   "cell_type": "code",
   "execution_count": 68,
   "metadata": {},
   "outputs": [
    {
     "data": {
      "text/plain": [
       "21"
      ]
     },
     "execution_count": 68,
     "metadata": {},
     "output_type": "execute_result"
    }
   ],
   "source": [
    "summary_splitter = SpacyTextSplitter(chunk_size=3000 , pipeline=\"pt_core_news_md\")\n",
    "summary_docs = summary_splitter.split_text(text)\n",
    "len(summary_docs)"
   ]
  },
  {
   "cell_type": "code",
   "execution_count": 69,
   "metadata": {},
   "outputs": [
    {
     "name": "stdout",
     "output_type": "stream",
     "text": [
      "[869,\n",
      " 911,\n",
      " 898,\n",
      " 942,\n",
      " 876,\n",
      " 949,\n",
      " 958,\n",
      " 926,\n",
      " 967,\n",
      " 911,\n",
      " 936,\n",
      " 897,\n",
      " 909,\n",
      " 904,\n",
      " 968,\n",
      " 912,\n",
      " 931,\n",
      " 941,\n",
      " 876,\n",
      " 837,\n",
      " 433]\n"
     ]
    }
   ],
   "source": [
    "print([len(encoding.encode(doc)) for doc in summary_docs])"
   ]
  },
  {
   "cell_type": "code",
   "execution_count": 72,
   "metadata": {},
   "outputs": [],
   "source": [
    "from langchain.prompts import PromptTemplate\n",
    "map_prompt = \"\"\"\n",
    "É um documento das funcionalidades que serão desenvolvidas em um Sprint. Esta seção será colocada entre acentos graves triplos (```)\n",
    "Seu objetivo é fornecer um resumo desta seção para que os desenvolvedores (c# e front-ends) tenham um entendimento completo do que fazer.\n",
    "\n",
    "```{text}```\n",
    "RESUMO COMPLETO, Faça um Título se possível. Saída em PORTUGUÊS Brasileiro:\n",
    "\"\"\"\n",
    "map_prompt_template = PromptTemplate(template=map_prompt, input_variables=[\"text\"])"
   ]
  },
  {
   "cell_type": "code",
   "execution_count": 78,
   "metadata": {},
   "outputs": [],
   "source": [
    "from langchain.chains.summarize import load_summarize_chain\n",
    "\n",
    "from langchain.chat_models import ChatOpenAI\n",
    "from langchain.text_splitter import RecursiveCharacterTextSplitter\n",
    "from langchain.docstore.document import Document\n",
    "llm = ChatOpenAI( temperature=0.1, max_tokens=1000)\n",
    "summaries = []\n",
    "chain = load_summarize_chain(llm=llm, chain_type=\"map_reduce\", map_prompt=map_prompt_template)\n",
    "summary_docs = [Document(page_content=doc) for doc in summary_docs]\n",
    "summary = chain.run(summary_docs)\n",
    "\n",
    "    \n"
   ]
  },
  {
   "cell_type": "code",
   "execution_count": 32,
   "metadata": {},
   "outputs": [
    {
     "name": "stdout",
     "output_type": "stream",
     "text": [
      "[304, 281, 288, 264, 291, 299, 304, 284, 295, 285, 306, 275, 111]\n"
     ]
    }
   ],
   "source": [
    "print([len(encoding.encode(doc.page_content)) for doc in summaries[0]])"
   ]
  },
  {
   "cell_type": "code",
   "execution_count": 79,
   "metadata": {},
   "outputs": [],
   "source": []
  },
  {
   "cell_type": "code",
   "execution_count": 76,
   "metadata": {},
   "outputs": [],
   "source": [
    "\n",
    "# The name of the file you want to save\n",
    "filename = \"summaries2.txt\"\n",
    "\n",
    "# Save the list of text to the file\n",
    "with open(filename, \"w\", encoding=\"utf-8\") as f:\n",
    "    for line in summaries:\n",
    "        f.write(f\"{line}\\n\")\n"
   ]
  }
 ],
 "metadata": {
  "kernelspec": {
   "display_name": "Python 3",
   "language": "python",
   "name": "python3"
  },
  "language_info": {
   "codemirror_mode": {
    "name": "ipython",
    "version": 3
   },
   "file_extension": ".py",
   "mimetype": "text/x-python",
   "name": "python",
   "nbconvert_exporter": "python",
   "pygments_lexer": "ipython3",
   "version": "3.11.2"
  },
  "orig_nbformat": 4
 },
 "nbformat": 4,
 "nbformat_minor": 2
}
